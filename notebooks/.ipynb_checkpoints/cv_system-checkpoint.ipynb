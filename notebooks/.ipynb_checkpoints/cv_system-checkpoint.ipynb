{
 "cells": [
  {
   "cell_type": "markdown",
   "metadata": {},
   "source": [
    "# CV and Cover Letter Automation System\n",
    "\n",
    "This notebook provides a step-by-step interface for tailoring your CV and cover letter based on job descriptions using OpenAI's API.\n",
    "\n",
    "## How it works:\n",
    "\n",
    "1. set up your OpenAI API key\n",
    "2. Paste a job description\n",
    "3. The system will analyze your existing CV and cover letter\n",
    "4. OpenAI will suggest tailored content based on the job description\n",
    "5. New cv documents will be created in the output folder\n",
    "\n",
    "Let's get started!"
   ]
  },
  {
   "cell_type": "markdown",
   "metadata": {},
   "source": [
    "## 1. Setup and Configuration\n",
    "\n",
    "First, let's import the necessary libraries and set up our environment."
   ]
  },
  {
   "cell_type": "code",
   "execution_count": 11,
   "metadata": {},
   "outputs": [
    {
     "name": "stdout",
     "output_type": "stream",
     "text": [
      "E:\\PROJECTS\\Automatic CV and Cover Letter with API\n",
      "Setup complete!\n"
     ]
    }
   ],
   "source": [
    "import os\n",
    "import sys\n",
    "import json\n",
    "from datetime import datetime\n",
    "from IPython.display import display, HTML\n",
    "\n",
    "# Add the project root to the path\n",
    "project_root = os.path.abspath(os.path.join(os.getcwd(), '..'))\n",
    "if project_root not in sys.path:\n",
    "    sys.path.append(project_root)\n",
    "print(project_root)\n",
    "# Import our custom modules\n",
    "from src.parsers.document_parser import CVParser, CoverLetterParser\n",
    "from src.utils.openai_integration import OpenAIIntegration\n",
    "from src.updaters.document_updater import DocumentUpdater\n",
    "\n",
    "# Define paths\n",
    "DATA_DIR = os.path.join(project_root, 'data')\n",
    "OUTPUT_DIR = os.path.join(project_root, 'output')\n",
    "\n",
    "# Create output directory if it doesn't exist\n",
    "os.makedirs(OUTPUT_DIR, exist_ok=True)\n",
    "\n",
    "print(\"Setup complete!\")"
   ]
  },
  {
   "cell_type": "markdown",
   "metadata": {},
   "source": [
    "## 2. Set up OpenAI API Key\n",
    "\n",
    "You'll need an OpenAI API key to use this system. If you don't have one, you can get it from [OpenAI's website](https://platform.openai.com/account/api-keys).\n",
    "\n",
    "You can either set it as an environment variable or enter it directly below:"
   ]
  },
  {
   "cell_type": "code",
   "execution_count": 12,
   "metadata": {},
   "outputs": [
    {
     "name": "stdin",
     "output_type": "stream",
     "text": [
      "Enter your OpenAI API key (input will be hidden):  ········\n"
     ]
    },
    {
     "name": "stdout",
     "output_type": "stream",
     "text": [
      "✅ API key successfully set!\n"
     ]
    }
   ],
   "source": [
    "# Option 1: Set API key directly\n",
    "import getpass\n",
    "api_key = getpass.getpass(\"Enter your OpenAI API key (input will be hidden): \")\n",
    "\n",
    "# Initialize OpenAI integration\n",
    "openai_integration = OpenAIIntegration(api_key=api_key)\n",
    "\n",
    "# Verify API key is set\n",
    "if openai_integration.is_api_key_set():\n",
    "    print(\"✅ API key successfully set!\")\n",
    "else:\n",
    "    print(\"❌ API key not set. Please try again or set the OPENAI_API_KEY environment variable.\")"
   ]
  },
  {
   "cell_type": "markdown",
   "metadata": {},
   "source": [
    "## 3. Load Your CV and Cover Letter\n",
    "\n",
    "The system will use your existing CV and cover letter as templates. Let's load them and see what they contain."
   ]
  },
  {
   "cell_type": "code",
   "execution_count": 13,
   "metadata": {},
   "outputs": [
    {
     "name": "stdout",
     "output_type": "stream",
     "text": [
      "Available documents:\n",
      "1. Cover Letter_Olha.docx\n",
      "2. Olha Polishchuk - Resume_Template_ATS.docx\n",
      "\n",
      "CV Information:\n",
      "Name: Olha Polishchuk\n",
      "Email: olha.pol1205@gmail.com\n",
      "Phone: +49 160 5841836  \n",
      "\n",
      "CV Sections:\n",
      "- HEADER\n",
      "- PROFILE\n",
      "- EDUCATION\n",
      "- SKILLS\n",
      "- CERTIFICATIONS\n",
      "- EXPERIENCE\n",
      "- PROJECTS\n",
      "\n",
      "Cover Letter Information:\n",
      "Header: Olha Polishchuk\n",
      "Greeting: Not found\n",
      "Body length: 0 characters\n"
     ]
    }
   ],
   "source": [
    "# List available documents in the data directory\n",
    "available_documents = [f for f in os.listdir(DATA_DIR) if f.endswith('.docx')]\n",
    "print(\"Available documents:\")\n",
    "for i, doc in enumerate(available_documents):\n",
    "    print(f\"{i+1}. {doc}\")\n",
    "\n",
    "# Default documents (you can change these if needed)\n",
    "cv_filename = \"Olha Polishchuk - Resume_Template_ATS.docx\"\n",
    "cover_letter_filename = \"Cover Letter_Olha.docx\"\n",
    "\n",
    "# Construct full paths\n",
    "cv_path = os.path.join(DATA_DIR, cv_filename)\n",
    "cover_letter_path = os.path.join(DATA_DIR, cover_letter_filename)\n",
    "\n",
    "# Load documents\n",
    "cv_parser = CVParser(cv_path)\n",
    "cover_letter_parser = CoverLetterParser(cover_letter_path)\n",
    "\n",
    "# Display some information about the loaded documents\n",
    "print(\"\\nCV Information:\")\n",
    "personal_info = cv_parser.get_personal_info()\n",
    "print(f\"Name: {personal_info.get('name', 'Not found')}\")\n",
    "print(f\"Email: {personal_info.get('email', 'Not found')}\")\n",
    "print(f\"Phone: {personal_info.get('phone', 'Not found')}\")\n",
    "\n",
    "print(\"\\nCV Sections:\")\n",
    "for section in cv_parser.get_all_sections().keys():\n",
    "    print(f\"- {section}\")\n",
    "\n",
    "print(\"\\nCover Letter Information:\")\n",
    "print(f\"Header: {cover_letter_parser.get_header() or 'Not found'}\")\n",
    "print(f\"Greeting: {cover_letter_parser.get_greeting() or 'Not found'}\")\n",
    "print(f\"Body length: {len(cover_letter_parser.get_body())} characters\")\n",
    "\n",
    "# Initialize document updater\n",
    "document_updater = DocumentUpdater(cv_path, cover_letter_path, openai_integration)"
   ]
  },
  {
   "cell_type": "markdown",
   "metadata": {},
   "source": [
    "## 4. Enter Job Description\n",
    "\n",
    "Now, paste the job description you want to tailor your CV and cover letter for:"
   ]
  },
  {
   "cell_type": "code",
   "execution_count": 17,
   "metadata": {},
   "outputs": [
    {
     "name": "stdout",
     "output_type": "stream",
     "text": [
      "Choose input method:\n",
      "1. LinkedIn Job URL\n",
      "2. Job Description Text\n"
     ]
    },
    {
     "name": "stdin",
     "output_type": "stream",
     "text": [
      "Enter 1 or 2:  2\n"
     ]
    },
    {
     "name": "stdout",
     "output_type": "stream",
     "text": [
      "Enter job description (paste below):\n"
     ]
    },
    {
     "name": "stdin",
     "output_type": "stream",
     "text": [
      " Die Stadt Willich (ca. 51.000 Einwohnende) ist eine aufstrebende Stadt im Kreis Viersen, mit attraktivem Bildungs- und Freizeitangebot. Wir, das Team der Stadtverwaltung Willich, sind rund 1.000 Mitarbeitende. In insgesamt 4 Fachbereichen setzen wir uns gemeinsam für die Stadt Willich und ihre Bürgerinnen und Bürger ein. Im Geschäftsbereich Personenstand und Ordnung besetzen wir zum nächstmöglichen Zeitpunkt eine Stelle als Sachbearbeiter:in (m, w, d) im Team Stadtteilbüro Umfang bis zu 30,5 Std. Befristung unbefristet Vergütung EG 8 / A 8 Beginn zum nächstmöglichen Zeitpunkt Aufgabenbereich Abwicklung aller melderechtlicher Aufgaben (An- Ab- Ummeldungen, Passangelegenheiten, Ausstellung von Meldebescheinigungen, Auskünfte aus dem Melderegister etc.) Entgegennahme von Anträgen verschiedener Art (Führerscheinanträge, Führungszeugnisse, Wohnberechtigungsscheine etc.) Hundean- und –abmeldungen Vertretung Ausländerstelle Bürger:Inneninformation und Klärung unterschiedlichster Fragen, sowie Hilfestellungen leisten und Kontakte zu anderen Geschäftsbereichen herstellen Das bringen Sie mit Flexibilität in Bezug auf den Einsatzort in den jeweiligen Stadtteilen und in der Wahrnehmung der täglichen Arbeitszeit unter Berücksichtigung der festgelegten Publikumszeiten Bereitschaft zu einzelnen Diensten am Samstag Kenntnisse über allgemeine Abläufe in der Stadtverwaltung Willich Teamfähigkeit Freundliches Verhalten gegenüber Bürgerinnen und Bürgern Aufgeschlossenheit für Publikumsverkehr und neue Aufgaben Flexibilität bei der Ausführung der vielseitigen Tätigkeiten Grundkenntnisse im Umgang mit der städtischen EDV Sicheres und angemessenes Auftreten Zulassungsvoraussetzung ist die Befähigung für die Laufbahngruppe 1, zweites Einstiegsamt (vormals mittlerer, nichttechnischer Dienst) bzw. Ausbildung zur/zum Verwaltungsfachangestellten (m,w,d) bzw. erfolgreicher Abschluss Verwaltungslehrgang 1 (vormals 1. Angestelltenprüfung) oder eine abgeschlossene dreijährige Ausbildung zur/zum Kauffrau/Kaufmann für Büromanagement (m,w,d) mit der Wahlqualifikation Verwaltung und Recht. Falls diese Prüfungen nicht vorliegen, muss zumindest eine abgeschlossene anerkannte dreijährige kaufmännische Berufsausbildung oder eine Ausbildung zur/zum Justiz-, Steuer-, Rechtsanwalts- oder Notarfachangestellten vorhanden sein. In diesen Fällen muss zusätzlich die Qualifizierung - Basislehrgang des Verwaltungslehrgangs I beim zuständigen Studieninstitut schnellstmöglich nachgeholt werden\n"
     ]
    },
    {
     "name": "stdout",
     "output_type": "stream",
     "text": [
      "\n",
      "Job Description Preview (first 300 characters):\n",
      "Die Stadt Willich (ca. 51.000 Einwohnende) ist eine aufstrebende Stadt im Kreis Viersen, mit attraktivem Bildungs- und Freizeitangebot. Wir, das Team der Stadtverwaltung Willich, sind rund 1.000 Mitarbeitende. In insgesamt 4 Fachbereichen setzen wir uns gemeinsam für die Stadt Willich und ihre Bürge...\n",
      "\n",
      "Total length: 2486 characters\n"
     ]
    }
   ],
   "source": [
    "# Choose input method\n",
    "print(\"Choose input method:\")\n",
    "print(\"1. LinkedIn Job URL\")\n",
    "print(\"2. Job Description Text\")\n",
    "input_method = input(\"Enter 1 or 2: \")\n",
    "\n",
    "# Input area for job description or LinkedIn URL\n",
    "if input_method == \"1\":\n",
    "    linkedin_url = input(\"Paste LinkedIn job URL: \")\n",
    "    print(\"LinkedIn URL detected. Extracting job description...\")\n",
    "    try:\n",
    "        job_description = openai_integration.extract_job_description_from_url(linkedin_url.strip())\n",
    "        print(\"✓ Successfully extracted job description from LinkedIn\")\n",
    "    except Exception as e:\n",
    "        print(f\"Error extracting job description from URL: {str(e)}\")\n",
    "        job_description = input(\"Please paste the job description text directly instead: \")\n",
    "else:\n",
    "    print(\"Enter job description (paste below):\")\n",
    "    job_description = input()\n",
    "\n",
    "# Display the job description for confirmation\n",
    "print(\"\\nJob Description Preview (first 300 characters):\")\n",
    "print(job_description[:300] + \"...\" if len(job_description) > 300 else job_description)\n",
    "print(f\"\\nTotal length: {len(job_description)} characters\")"
   ]
  },
  {
   "cell_type": "markdown",
   "metadata": {},
   "source": [
    "## 5. Analyze Job Description\n",
    "\n",
    "Now, let's analyze the job description to identify key requirements and skills that should be emphasized in your CV and cover letter."
   ]
  },
  {
   "cell_type": "code",
   "execution_count": 15,
   "metadata": {},
   "outputs": [
    {
     "name": "stdout",
     "output_type": "stream",
     "text": [
      "Analyzing job description... (this may take a moment)\n",
      "Error: Error code: 404 - {'error': {'message': 'The model `gpt-4` does not exist or you do not have access to it.', 'type': 'invalid_request_error', 'param': None, 'code': 'model_not_found'}}\n"
     ]
    }
   ],
   "source": [
    "# Analyze job description\n",
    "print(\"Analyzing job description... (this may take a moment)\")\n",
    "analysis_result = document_updater.analyze_job_description(job_description)\n",
    "\n",
    "# Display analysis results\n",
    "if \"error\" in analysis_result:\n",
    "    print(f\"Error: {analysis_result['error']}\")\n",
    "elif \"raw_response\" in analysis_result:\n",
    "    try:\n",
    "        # Try to parse as JSON\n",
    "        suggestions = json.loads(analysis_result[\"raw_response\"])\n",
    "        \n",
    "        print(\"\\n📋 Analysis Results:\")\n",
    "        print(\"\\n🔹 Suggested Profile Summary:\")\n",
    "        print(suggestions.get(\"profile_summary\", \"No suggestions\"))\n",
    "        \n",
    "        print(\"\\n🔹 Key Skills to Emphasize:\")\n",
    "        for skill in suggestions.get(\"skills\", []):\n",
    "            print(f\"- {skill}\")\n",
    "        \n",
    "        print(\"\\n🔹 Experience Highlights:\")\n",
    "        for highlight in suggestions.get(\"experience_highlights\", []):\n",
    "            print(f\"- {highlight}\")\n",
    "        \n",
    "        print(\"\\n🔹 Keywords to Emphasize:\")\n",
    "        for keyword in suggestions.get(\"keywords_to_emphasize\", []):\n",
    "            print(f\"- {keyword}\")\n",
    "    except json.JSONDecodeError:\n",
    "        # If not valid JSON, display raw text\n",
    "        print(\"\\n📋 Analysis Results (raw):\")\n",
    "        print(analysis_result[\"raw_response\"])\n",
    "else:\n",
    "    print(\"No analysis results returned.\")"
   ]
  },
  {
   "cell_type": "markdown",
   "metadata": {},
   "source": [
    "## 6. Generate Tailored Documents\n",
    "\n",
    "Now, let's generate tailored versions of your CV and cover letter based on the job description analysis."
   ]
  },
  {
   "cell_type": "code",
   "execution_count": 16,
   "metadata": {},
   "outputs": [
    {
     "name": "stdout",
     "output_type": "stream",
     "text": [
      "Generating tailored CV...\n"
     ]
    },
    {
     "ename": "Exception",
     "evalue": "Error updating CV: Error analyzing job description: Error code: 404 - {'error': {'message': 'The model `gpt-4` does not exist or you do not have access to it.', 'type': 'invalid_request_error', 'param': None, 'code': 'model_not_found'}}",
     "output_type": "error",
     "traceback": [
      "\u001b[1;31m---------------------------------------------------------------------------\u001b[0m",
      "\u001b[1;31mValueError\u001b[0m                                Traceback (most recent call last)",
      "File \u001b[1;32mE:\\PROJECTS\\Automatic CV and Cover Letter with API\\src\\updaters\\document_updater.py:76\u001b[0m, in \u001b[0;36mDocumentUpdater.update_cv\u001b[1;34m(self, job_description, output_path)\u001b[0m\n\u001b[0;32m     75\u001b[0m \u001b[38;5;28;01mif\u001b[39;00m \u001b[38;5;124m\"\u001b[39m\u001b[38;5;124merror\u001b[39m\u001b[38;5;124m\"\u001b[39m \u001b[38;5;129;01min\u001b[39;00m analysis:\n\u001b[1;32m---> 76\u001b[0m     \u001b[38;5;28;01mraise\u001b[39;00m \u001b[38;5;167;01mValueError\u001b[39;00m(\u001b[38;5;124mf\u001b[39m\u001b[38;5;124m\"\u001b[39m\u001b[38;5;124mError analyzing job description: \u001b[39m\u001b[38;5;132;01m{\u001b[39;00manalysis[\u001b[38;5;124m'\u001b[39m\u001b[38;5;124merror\u001b[39m\u001b[38;5;124m'\u001b[39m]\u001b[38;5;132;01m}\u001b[39;00m\u001b[38;5;124m\"\u001b[39m)\n\u001b[0;32m     78\u001b[0m \u001b[38;5;66;03m# Parse the raw response if it exists\u001b[39;00m\n",
      "\u001b[1;31mValueError\u001b[0m: Error analyzing job description: Error code: 404 - {'error': {'message': 'The model `gpt-4` does not exist or you do not have access to it.', 'type': 'invalid_request_error', 'param': None, 'code': 'model_not_found'}}",
      "\nDuring handling of the above exception, another exception occurred:\n",
      "\u001b[1;31mException\u001b[0m                                 Traceback (most recent call last)",
      "Cell \u001b[1;32mIn[16], line 11\u001b[0m\n\u001b[0;32m      9\u001b[0m \u001b[38;5;66;03m# Generate tailored CV\u001b[39;00m\n\u001b[0;32m     10\u001b[0m \u001b[38;5;28mprint\u001b[39m(\u001b[38;5;124m\"\u001b[39m\u001b[38;5;124mGenerating tailored CV...\u001b[39m\u001b[38;5;124m\"\u001b[39m)\n\u001b[1;32m---> 11\u001b[0m cv_result \u001b[38;5;241m=\u001b[39m \u001b[43mdocument_updater\u001b[49m\u001b[38;5;241;43m.\u001b[39;49m\u001b[43mupdate_cv\u001b[49m\u001b[43m(\u001b[49m\u001b[43mjob_description\u001b[49m\u001b[43m,\u001b[49m\u001b[43m \u001b[49m\u001b[43mtailored_cv_path\u001b[49m\u001b[43m)\u001b[49m\n\u001b[0;32m     12\u001b[0m \u001b[38;5;28mprint\u001b[39m(\u001b[38;5;124mf\u001b[39m\u001b[38;5;124m\"\u001b[39m\u001b[38;5;124m✅ Tailored CV saved to: \u001b[39m\u001b[38;5;132;01m{\u001b[39;00mos\u001b[38;5;241m.\u001b[39mpath\u001b[38;5;241m.\u001b[39mbasename(cv_result)\u001b[38;5;132;01m}\u001b[39;00m\u001b[38;5;124m\"\u001b[39m)\n\u001b[0;32m     14\u001b[0m \u001b[38;5;66;03m# Generate tailored cover letter\u001b[39;00m\n",
      "File \u001b[1;32mE:\\PROJECTS\\Automatic CV and Cover Letter with API\\src\\updaters\\document_updater.py:114\u001b[0m, in \u001b[0;36mDocumentUpdater.update_cv\u001b[1;34m(self, job_description, output_path)\u001b[0m\n\u001b[0;32m    111\u001b[0m     \u001b[38;5;28;01mreturn\u001b[39;00m output_path\n\u001b[0;32m    113\u001b[0m \u001b[38;5;28;01mexcept\u001b[39;00m \u001b[38;5;167;01mException\u001b[39;00m \u001b[38;5;28;01mas\u001b[39;00m e:\n\u001b[1;32m--> 114\u001b[0m     \u001b[38;5;28;01mraise\u001b[39;00m \u001b[38;5;167;01mException\u001b[39;00m(\u001b[38;5;124mf\u001b[39m\u001b[38;5;124m\"\u001b[39m\u001b[38;5;124mError updating CV: \u001b[39m\u001b[38;5;132;01m{\u001b[39;00m\u001b[38;5;28mstr\u001b[39m(e)\u001b[38;5;132;01m}\u001b[39;00m\u001b[38;5;124m\"\u001b[39m)\n",
      "\u001b[1;31mException\u001b[0m: Error updating CV: Error analyzing job description: Error code: 404 - {'error': {'message': 'The model `gpt-4` does not exist or you do not have access to it.', 'type': 'invalid_request_error', 'param': None, 'code': 'model_not_found'}}"
     ]
    }
   ],
   "source": [
    "# Generate a timestamp for the output files\n",
    "timestamp = datetime.now().strftime(\"%Y%m%d_%H%M%S\")\n",
    "job_title = \"Job_Application\"  # You can customize this\n",
    "\n",
    "# Define output paths\n",
    "tailored_cv_path = os.path.join(OUTPUT_DIR, f\"{job_title}_CV_{timestamp}.docx\")\n",
    "tailored_cover_letter_path = os.path.join(OUTPUT_DIR, f\"{job_title}_CoverLetter_{timestamp}.docx\")\n",
    "\n",
    "# Generate tailored CV\n",
    "print(\"Generating tailored CV...\")\n",
    "cv_result = document_updater.update_cv(job_description, tailored_cv_path)\n",
    "print(f\"✅ Tailored CV saved to: {os.path.basename(cv_result)}\")\n",
    "\n",
    "# Generate tailored cover letter\n",
    "print(\"\\nGenerating tailored cover letter...\")\n",
    "cover_letter_result = document_updater.update_cover_letter(job_description, tailored_cover_letter_path)\n",
    "print(f\"✅ Tailored cover letter saved to: {os.path.basename(cover_letter_result)}\")\n",
    "\n",
    "# Display success message with file paths\n",
    "display(HTML(f\"\"\"\n",
    "<div style=\"background-color: #e6f7e6; padding: 15px; border-radius: 5px; margin-top: 20px;\">\n",
    "    <h3 style=\"color: #2e8b57;\">✅ Documents Successfully Generated!</h3>\n",
    "    <p>Your tailored documents have been saved to the following locations:</p>\n",
    "    <ul>\n",
    "        <li><strong>CV:</strong> {tailored_cv_path}</li>\n",
    "        <li><strong>Cover Letter:</strong> {tailored_cover_letter_path}</li>\n",
    "    </ul>\n",
    "    <p>You can now review and further customize these documents before submitting your application.</p>\n",
    "</div>\n",
    "\"\"\"))"
   ]
  },
  {
   "cell_type": "markdown",
   "metadata": {},
   "source": [
    "## 7. (next feature)Customization Options\n",
    "\n",
    "You can customize various aspects of the tailoring process by modifying the parameters below:"
   ]
  },
  {
   "cell_type": "code",
   "execution_count": 21,
   "metadata": {},
   "outputs": [],
   "source": [
    "# OpenAI model options\n",
    "def change_openai_model(model_name=\"gpt-3.5-turbo\"):\n",
    "    \"\"\"Change the OpenAI model used for analysis and generation.\n",
    "    \n",
    "    Args:\n",
    "        model_name: Name of the OpenAI model to use (e.g., \"gpt-3.5-turbo\", \"gpt-4\")\n",
    "    \"\"\"\n",
    "    # This would require modifying the OpenAIIntegration class to accept model name as a parameter\n",
    "    print(f\"Model changed to: {model_name}\")\n",
    "    print(\"Note: This functionality requires updating the OpenAIIntegration class.\")\n",
    "\n",
    "# Example usage:\n",
    "# change_openai_model(\"gpt-4\")"
   ]
  },
  {
   "cell_type": "markdown",
   "metadata": {},
   "source": [
    " ## 8. (next feature)Process Multiple Job Applications\n",
    "\n",
    "If you want to apply for multiple positions, you can use the function below to process multiple job descriptions in batch:"
   ]
  },
  {
   "cell_type": "code",
   "execution_count": 22,
   "metadata": {},
   "outputs": [
    {
     "data": {
      "text/plain": [
       "'\\njob_descriptions = [\\n    \"First job description...\",\\n    \"Second job description...\"\\n]\\n\\njob_titles = [\\n    \"Data_Analyst\",\\n    \"Software_Engineer\"\\n]\\n\\nresults = process_multiple_jobs(job_descriptions, job_titles)\\n'"
      ]
     },
     "execution_count": 22,
     "metadata": {},
     "output_type": "execute_result"
    }
   ],
   "source": [
    "def process_multiple_jobs(job_descriptions, job_titles):\n",
    "    \"\"\"Process multiple job applications at once.\n",
    "    \n",
    "    Args:\n",
    "        job_descriptions: List of job description texts\n",
    "        job_titles: List of job titles (used for file naming)\n",
    "    \n",
    "    Returns:\n",
    "        Dictionary mapping job titles to output file paths\n",
    "    \"\"\"\n",
    "    results = {}\n",
    "    \n",
    "    for i, (description, title) in enumerate(zip(job_descriptions, job_titles)):\n",
    "        print(f\"Processing job {i+1}/{len(job_descriptions)}: {title}\")\n",
    "        \n",
    "        # Generate timestamp\n",
    "        timestamp = datetime.now().strftime(\"%Y%m%d_%H%M%S\")\n",
    "        \n",
    "        # Define output paths\n",
    "        cv_path = os.path.join(OUTPUT_DIR, f\"{title.replace(' ', '_')}_CV_{timestamp}.docx\")\n",
    "        cover_letter_path = os.path.join(OUTPUT_DIR, f\"{title.replace(' ', '_')}_CoverLetter_{timestamp}.docx\")\n",
    "        \n",
    "        # Generate tailored documents\n",
    "        cv_result = document_updater.update_cv(description, cv_path)\n",
    "        cover_letter_result = document_updater.update_cover_letter(description, cover_letter_path)\n",
    "        \n",
    "        results[title] = {\n",
    "            \"cv\": cv_result,\n",
    "            \"cover_letter\": cover_letter_result\n",
    "        }\n",
    "        \n",
    "        print(f\"✅ Completed: {title}\\n\")\n",
    "    \n",
    "    return results\n",
    "\n",
    "# Example usage:\n",
    "'''\n",
    "job_descriptions = [\n",
    "    \"First job description...\",\n",
    "    \"Second job description...\"\n",
    "]\n",
    "\n",
    "job_titles = [\n",
    "    \"Data_Analyst\",\n",
    "    \"Software_Engineer\"\n",
    "]\n",
    "\n",
    "results = process_multiple_jobs(job_descriptions, job_titles)\n",
    "'''"
   ]
  },
  {
   "cell_type": "markdown",
   "metadata": {},
   "source": []
  }
 ],
 "metadata": {
  "kernelspec": {
   "display_name": "Python 3 (ipykernel)",
   "language": "python",
   "name": "python3"
  },
  "language_info": {
   "codemirror_mode": {
    "name": "ipython",
    "version": 3
   },
   "file_extension": ".py",
   "mimetype": "text/x-python",
   "name": "python",
   "nbconvert_exporter": "python",
   "pygments_lexer": "ipython3",
   "version": "3.12.5"
  },
  "widgets": {
   "application/vnd.jupyter.widget-state+json": {
    "state": {},
    "version_major": 2,
    "version_minor": 0
   }
  }
 },
 "nbformat": 4,
 "nbformat_minor": 4
}
